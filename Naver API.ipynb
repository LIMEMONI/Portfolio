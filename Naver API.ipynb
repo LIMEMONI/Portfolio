{
 "cells": [
  {
   "cell_type": "markdown",
   "id": "6746c55a",
   "metadata": {},
   "source": [
    "# 06. Naver API"
   ]
  },
  {
   "cell_type": "markdown",
   "id": "5c8a4e56",
   "metadata": {},
   "source": [
    "## 1. 네이버 API 사용 등록 ㅡ"
   ]
  },
  {
   "cell_type": "markdown",
   "id": "c6bfe9ee",
   "metadata": {},
   "source": [
    "- 네이버 개발자 센터 \n",
    "- https://developers.naver.com/main/\n",
    "- Application \n",
    "    - 어플리케이션 등록\n",
    "    - 어플리케이션 이름 ds_study \n",
    "    - 사용 API \n",
    "        - 검색\n",
    "        - 데이터랩(검색어트렌드)\n",
    "        - 데이터랩(쇼핑인사이트)\n",
    "    - 환경추가 \n",
    "        - WEB 설정 \n",
    "        - http://localhost\n",
    "    - Clienct ID: aBUEo3o1bXnyEGIPk09r\n",
    "    - Clienct Secret: rG4mw35IKg\n",
    "    - https://developers.naver.com/apps/#/myapps/H2_6lcavpVyHW8211rUq/overview "
   ]
  },
  {
   "cell_type": "markdown",
   "id": "e1216d73",
   "metadata": {},
   "source": [
    "## 2. 네이버 검색 API 사용하기"
   ]
  },
  {
   "cell_type": "markdown",
   "id": "14953153",
   "metadata": {},
   "source": [
    "- https://developers.naver.com/docs/serviceapi/search/blog/blog.md#%EB%B8%94%EB%A1%9C%EA%B7%B8 # 개발 가이드 "
   ]
  },
  {
   "cell_type": "markdown",
   "id": "cf439571",
   "metadata": {},
   "source": [
    "- urllib: http 프로토콜에 따라서 서버의 요청/응답을 처리하기 위한 모듈 \n",
    "- urllib.request: 클라이언트의 요청을 처리하는 모듈 \n",
    "- urllib.parse: url 주소에 대한 분석 "
   ]
  },
  {
   "cell_type": "code",
   "execution_count": 7,
   "id": "cd811d60",
   "metadata": {},
   "outputs": [
    {
     "name": "stdout",
     "output_type": "stream",
     "text": [
      "{\n",
      "\t\"lastBuildDate\":\"Sun, 05 Feb 2023 23:01:59 +0900\",\n",
      "\t\"total\":41652,\n",
      "\t\"start\":1,\n",
      "\t\"display\":10,\n",
      "\t\"items\":[\n",
      "\t\t{\n",
      "\t\t\t\"title\":\"10월 컴백 걸그룹 일람 - <b>레드벨벳 슬기<\\/b>, (여자)아이들, 르세라핌... \",\n",
      "\t\t\t\"link\":\"https:\\/\\/blog.naver.com\\/ryc3030\\/222880082339\",\n",
      "\t\t\t\"description\":\"시작은 <b>레드벨벳 슬기<\\/b>의 컴백에서 시작된다. 레드벨벳은 2021년 4월을 시작으로 멤버들의 솔로 앨범을 제작하고 있는데 웬디, 조이에 이어 슬기가 솔로로 데뷔한다. 슬기는 솔로로 데뷔하기 이전에... \",\n",
      "\t\t\t\"bloggername\":\"밍기적사운드\",\n",
      "\t\t\t\"bloggerlink\":\"blog.naver.com\\/ryc3030\",\n",
      "\t\t\t\"postdate\":\"20220921\"\n",
      "\t\t},\n",
      "\t\t{\n",
      "\t\t\t\"title\":\"&apos;<b>레드벨벳 슬기<\\/b> 닮은꼴&apos; 장은실 레슬링 선수, 피지컬 100 최대... \",\n",
      "\t\t\t\"link\":\"https:\\/\\/blog.naver.com\\/azaleass\\/223005245008\",\n",
      "\t\t\t\"description\":\"이하 장은실 인스타그램 능력, 인성 모두 다 갖춘 장은실을 향해 관심이 쏟아지고 있는 가운데, 일부 누리꾼은 그가 <b>레 드벨벳 슬기<\\/b>를 닮았다고 주장했다. 무쌍꺼풀 눈매와 귀여운 눈웃음이 상당히 흡사하다는... \",\n",
      "\t\t\t\"bloggername\":\"바다만큼 이야기\",\n",
      "\t\t\t\"bloggerlink\":\"blog.naver.com\\/azaleass\",\n",
      "\t\t\t\"postdate\":\"20230205\"\n",
      "\t\t},\n",
      "\t\t{\n",
      "\t\t\t\"title\":\"<b>레드벨벳 슬기<\\/b> 28 REASONS 앨범리뷰!!\",\n",
      "\t\t\t\"link\":\"https:\\/\\/blog.naver.com\\/lovesupply02\\/222975593775\",\n",
      "\t\t\t\"description\":\"<b>레드벨벳 슬기<\\/b>의 ★솔로데뷔앨범★ &quot;28 Reasons&quot; 입니다 :) 작년에 구매하고나서 가장 뿌듯했던 앨범... 팜플렛처럼생긴 &quot;포토북버전&quot; 레드벨벳 솔로앨범패키지의 정체성 &quot;케이스버전&quot; 그리고 슬기가 직접... \",\n",
      "\t\t\t\"bloggername\":\"기분좋아\",\n",
      "\t\t\t\"bloggerlink\":\"blog.naver.com\\/lovesupply02\",\n",
      "\t\t\t\"postdate\":\"20230105\"\n",
      "\t\t},\n",
      "\t\t{\n",
      "\t\t\t\"title\":\"문빈, 강하나, 크리스탈, 이민정, <b>레드벨벳 슬기<\\/b> 착용\",\n",
      "\t\t\t\"link\":\"https:\\/\\/blog.naver.com\\/dog1902\\/222981896024\",\n",
      "\t\t\t\"description\":\"이민정, <b>레드벨벳 슬기<\\/b> 착용 edge chain post earring 41,000 모든 제품들 오더 메이드 결제 완료 후 제품... 아스트로 문빈, 아스트로 라키, 크리스탈, <b>레드벨벳 슬기<\\/b>, 아이들 수진 헉헉.. 배우 이민정님 귀걸이로... \",\n",
      "\t\t\t\"bloggername\":\"디자이너 황도그의 OOTD LOOK\",\n",
      "\t\t\t\"bloggerlink\":\"blog.naver.com\\/dog1902\",\n",
      "\t\t\t\"postdate\":\"20230112\"\n",
      "\t\t},\n",
      "\t\t{\n",
      "\t\t\t\"title\":\"상상 그 이상, <b>레드벨벳 슬기<\\/b>의 첫 솔로 티저\",\n",
      "\t\t\t\"link\":\"https:\\/\\/blog.naver.com\\/bkbkks\\/222873638308\",\n",
      "\t\t\t\"description\":\"9월 13일 자정 <b>레드벨벳 슬기<\\/b>의 첫 솔로 티저가 공개됐습니다. 강슬기. 1994년생 올해 스물 아홉인 그는 레드벨벳이 2014년 데뷔한 이후 9년 만에 첫 솔로를 내놓습니다. 28 Reasons 10월 4일 발매 6곡 수록의 미니앨범... \",\n",
      "\t\t\t\"bloggername\":\"All\",\n",
      "\t\t\t\"bloggerlink\":\"blog.naver.com\\/bkbkks\",\n",
      "\t\t\t\"postdate\":\"20220913\"\n",
      "\t\t},\n",
      "\t\t{\n",
      "\t\t\t\"title\":\"<b>레드벨벳 슬기<\\/b> 카메라. 펜탁스 에스피오120SW\",\n",
      "\t\t\t\"link\":\"https:\\/\\/blog.naver.com\\/matepostit\\/222988356843\",\n",
      "\t\t\t\"description\":\"<b>레드벨벳 슬기<\\/b> 카메라, 펜탁스 에스피오 120SW입니다. 이 카메라는 2001년 출생입니다. 필름카메라... (하지만 에스피오 120SW가 슬기 카메라이기 때문에 가격은 120SW I이 더 비쌉니다) 그럼 단점은 없나요? 단점... \",\n",
      "\t\t\t\"bloggername\":\"최마태의 포스트 IT\",\n",
      "\t\t\t\"bloggerlink\":\"blog.naver.com\\/matepostit\",\n",
      "\t\t\t\"postdate\":\"20230119\"\n",
      "\t\t},\n",
      "\t\t{\n",
      "\t\t\t\"title\":\"<b>레드벨벳 슬기<\\/b>의 28 Reasons와 에프엑스 설리의 고블린\",\n",
      "\t\t\t\"link\":\"https:\\/\\/blog.naver.com\\/esedae\\/222894012872\",\n",
      "\t\t\t\"description\":\"<b>레드벨벳 슬기<\\/b>의 첫 솔로 앨범 ‘28Reasons’가 영국 NME의 호평을 받았다. 영국의 주요 음악 전문 매거진 NME는 4일(현지 시간) 공식 홈페이지를 통해 “슬기 ‘28 Reasons’ : 레드벨벳의 스타, 매혹적인 솔로... \",\n",
      "\t\t\t\"bloggername\":\"이 세대가 가기 전에\",\n",
      "\t\t\t\"bloggerlink\":\"blog.naver.com\\/esedae\",\n",
      "\t\t\t\"postdate\":\"20221007\"\n",
      "\t\t},\n",
      "\t\t{\n",
      "\t\t\t\"title\":\"<b>레드벨벳 슬기<\\/b>님이 착용한 어썸니즈 모자 겨울에 사용하기 제격\",\n",
      "\t\t\t\"link\":\"https:\\/\\/blog.naver.com\\/dayoff_91\\/222985112390\",\n",
      "\t\t\t\"description\":\"최근 레드벨벳의 슬기님이 개인 SNS에 삿포로 여행 시 착용을 한 모자가 정말 따뜻해 보여... 출처 : @hi_sseulgi <b>레드벨벳 슬기<\\/b>님 같은 경우 어썸니즈의 램프쉐이드 햇 모자를 후리스와 함께 캐주얼한... \",\n",
      "\t\t\t\"bloggername\":\"Day Off\",\n",
      "\t\t\t\"bloggerlink\":\"blog.naver.com\\/dayoff_91\",\n",
      "\t\t\t\"postdate\":\"20230115\"\n",
      "\t\t},\n",
      "\t\t{\n",
      "\t\t\t\"title\":\"COS 코스 미니 패디드백 블랙 | <b>레드벨벳 슬기<\\/b> 가방 애장템... \",\n",
      "\t\t\t\"link\":\"https:\\/\\/blog.naver.com\\/o__onica\\/222892606730\",\n",
      "\t\t\t\"description\":\"이 가방은 바로 <b>레드벨벳 슬기<\\/b>의 찐애장템으로 슬기는 이 제품을 핫핑크 색도 가지고 있다고 한다. ↑제니 가방 리뷰도 한번 확인해주세요 COS MINI PADDED SHOPPER BLACK REVIEW 코스 미니 패디드백 크림... \",\n",
      "\t\t\t\"bloggername\":\"#includoong\",\n",
      "\t\t\t\"bloggerlink\":\"blog.naver.com\\/o__onica\",\n",
      "\t\t\t\"postdate\":\"20221007\"\n",
      "\t\t},\n",
      "\t\t{\n",
      "\t\t\t\"title\":\"<b>레드벨벳 슬기<\\/b> 화보 엘르 9월호 언더아머 스포츠 브라 &amp; 여자... \",\n",
      "\t\t\t\"link\":\"https:\\/\\/blog.naver.com\\/minju1004b\\/222868890988\",\n",
      "\t\t\t\"description\":\"보여지는 <b>레드벨벳 슬기<\\/b>의 모습에서는 저는 스포츠 브라와 여자 레깅스 코디 조합이 제일 좋기는 해요 뭔가 그동안 보던 모습과 다르게 그동안 탄탄한 복근을 만들기 위해 이렇게 즐기는 곰슬기의 모습을... \",\n",
      "\t\t\t\"bloggername\":\"패션 인플루언서 복숭아링\",\n",
      "\t\t\t\"bloggerlink\":\"blog.naver.com\\/minju1004b\",\n",
      "\t\t\t\"postdate\":\"20220907\"\n",
      "\t\t}\n",
      "\t]\n",
      "}\n"
     ]
    }
   ],
   "source": [
    "# 네이버 검색 API 예제 - 블로그 검색\n",
    "import os\n",
    "import sys\n",
    "import urllib.request\n",
    "\n",
    "client_id = \"aBUEo3o1bXnyEGIPk09r\"\n",
    "client_secret = \"rG4mw35IKg\"\n",
    "\n",
    "encText = urllib.parse.quote(\"레드벨벳 슬기\")\n",
    "url = \"https://openapi.naver.com/v1/search/blog?query=\" + encText # JSON 결과\n",
    "# url = \"https://openapi.naver.com/v1/search/blog.xml?query=\" + encText # XML 결과\n",
    "request = urllib.request.Request(url)\n",
    "request.add_header(\"X-Naver-Client-Id\",client_id)\n",
    "request.add_header(\"X-Naver-Client-Secret\",client_secret)\n",
    "response = urllib.request.urlopen(request)\n",
    "rescode = response.getcode()\n",
    "\n",
    "if(rescode==200):\n",
    "    response_body = response.read()\n",
    "    print(response_body.decode('utf-8'))\n",
    "else:\n",
    "    print(\"Error Code:\" + rescode)"
   ]
  },
  {
   "cell_type": "code",
   "execution_count": 6,
   "id": "d5b2f377",
   "metadata": {},
   "outputs": [
    {
     "data": {
      "text/plain": [
       "(<http.client.HTTPResponse at 0x1e347388ac0>, 200, 200, 200)"
      ]
     },
     "execution_count": 6,
     "metadata": {},
     "output_type": "execute_result"
    }
   ],
   "source": [
    "response, response.getcode(), response.code, response.status"
   ]
  },
  {
   "cell_type": "markdown",
   "id": "e25d3773",
   "metadata": {},
   "source": [
    "## 검색: 책(book)"
   ]
  },
  {
   "cell_type": "code",
   "execution_count": 8,
   "id": "f721e0b8",
   "metadata": {},
   "outputs": [
    {
     "name": "stdout",
     "output_type": "stream",
     "text": [
      "{\n",
      "\t\"lastBuildDate\":\"Sun, 05 Feb 2023 23:03:17 +0900\",\n",
      "\t\"total\":195,\n",
      "\t\"start\":1,\n",
      "\t\"display\":10,\n",
      "\t\"items\":[\n",
      "\t\t{\n",
      "\t\t\t\"title\":\"더 포스터북 by 슬기\",\n",
      "\t\t\t\"link\":\"https:\\/\\/search.shopping.naver.com\\/book\\/catalog\\/32464093739\",\n",
      "\t\t\t\"image\":\"https:\\/\\/shopping-phinf.pstatic.net\\/main_3246409\\/32464093739.20221019110510.jpg\",\n",
      "\t\t\t\"author\":\"슬기\",\n",
      "\t\t\t\"discount\":\"29700\",\n",
      "\t\t\t\"publisher\":\"아르테(arte)\",\n",
      "\t\t\t\"pubdate\":\"20220210\",\n",
      "\t\t\t\"isbn\":\"8809501981373\",\n",
      "\t\t\t\"description\":\"당신의 취향을 드러낼 수 있는 가장 완벽하고 현명한 소품,\\n더 포스터 북 시리즈로 오직 나만을 위한 전시회를 열어보자\\n\\n각 권에 포스터 작품 10점을 가득 채운 아트 포스터 시리즈 『더 포스터 북』. 시중 포스터에 흔히 쓰이는 종이에 단순 인쇄로 만든 것이 아닌, 작품 고유의 분위기와 색감, 질감을 온전히 표현할 수 있는 종이를 골라 고품질 인쇄로 섬세하게 제작되었다. 개성이 가득 담긴 포스터 북 한 권이면 어떤 공간에서든 나만을 위한 전시회를 열 수 있을 것이다.\\n\\n『더 포스터 북』의 55번째 시리즈 『더 포스터 북 by 슬기』에는 예술적 감각으로 많은 주목을 받아 온 레드벨벳 슬기의 시선이 오래도록 머물렀던 순간을 담은 그림이 수록되어 있다.\\n\\nㆍ THE POSTER BOOK by 슬기\\n슬기의 그림일기\\n무엇이든 채울 수 있는 도화지에 그날의 기분을 닮은 선과 색으로\\n마음에 오래도록 머물다 간 순간들을 담은 슬기의 그림일기.\\n어쩌면 영영 흘려보냈을 행복의 기록이자\\n슬기가 만들어낸 작은 세계가 그 안에 담겨 있습니다.\\n슬기를 닮아 따뜻하고 사랑스러운 그림일기를 ‘더 포스터 북 by 슬기’에서 만나 보세요.\\n\\n“어릴 때 쓰던 그림일기처럼 \\n그날그날 내 마음이 가는 대로 나만의 추억을 그려 보세요.\\n일상 속 소소한 행복을 찾는 건 꽤나 즐거운 일이랍니다.“\\nfrom 슬기\"\n",
      "\t\t},\n",
      "\t\t{\n",
      "\t\t\t\"title\":\"2023 서익환 공무원 한국사 기출지문 고-엑스(OX)\",\n",
      "\t\t\t\"link\":\"https:\\/\\/search.shopping.naver.com\\/book\\/catalog\\/34979025636\",\n",
      "\t\t\t\"image\":\"https:\\/\\/shopping-phinf.pstatic.net\\/main_3497902\\/34979025636.20221019135255.jpg\",\n",
      "\t\t\t\"author\":\"서익환\",\n",
      "\t\t\t\"discount\":\"12600\",\n",
      "\t\t\t\"publisher\":\"슬기책\",\n",
      "\t\t\t\"pubdate\":\"20221004\",\n",
      "\t\t\t\"isbn\":\"9791196357788\",\n",
      "\t\t\t\"description\":\"두꺼운   수험서는   가라! 공무원   한국사   실력    점검용   OX 문제집의   끝판왕\\n\\n『2023 서익환 공무원 한국사 기출지문 고엑스(OX) 문제집』 개정판은 기출 지문 OX 문제와 사료 빈칸 채우기를 결합하여 공무원 한국사 복습과 실력 점검에 최 적화된 교재이다. 이번 개정판은 방대한 양의 기출 지문을 중복 지문 없이 모두 걸러 내었고 최근 공무원 한국사의 경향에 맞춰 고난도나 지엽적인 지문도 대체 하여 단 120페이지로 압축하였다. 또한 2022년 최신 공무원 한국사 기출문제까 지 반영하였으며 빈출 사료와 고난도 사료로 빈칸 채우기를 추가하였다. 서익환 쌤의 시그니처 암기법인 ‘아.푸다. - 아는것과 푸는 것은 다르다’를 추가하여 문제 풀이 tip과 주요 암기 방법, 실전 풀이 노하우 등을 매 단원마다 정리하였다. 이책은 공무원 한국사 회독을 여러 번 하여도 생소한 지문에 헷갈리는 수험생들을 위해 배운 내용을 문제에 적용할 수 있도록 연습할 수 있는 최적의 공무원 수험서이다\"\n",
      "\t\t},\n",
      "\t\t{\n",
      "\t\t\t\"title\":\"2023 한눈에 들어오는 서익환 한국사 필기노트 (9급 공무원 한능검 대비)\",\n",
      "\t\t\t\"link\":\"https:\\/\\/search.shopping.naver.com\\/book\\/catalog\\/33039490635\",\n",
      "\t\t\t\"image\":\"https:\\/\\/shopping-phinf.pstatic.net\\/main_3303949\\/33039490635.20221019131229.jpg\",\n",
      "\t\t\t\"author\":\"서익환\",\n",
      "\t\t\t\"discount\":\"10800\",\n",
      "\t\t\t\"publisher\":\"슬기책\",\n",
      "\t\t\t\"pubdate\":\"20220701\",\n",
      "\t\t\t\"isbn\":\"9791196357771\",\n",
      "\t\t\t\"description\":\"2022년 출간 즉시 베스트셀러에 오르며 한국사 필기노트의 새로운 강자로 등극한 서익환의 한눈에 들어오는 필기노트가 수험생의 요구를 반영하고 최신 경향에 맞춰 업그레이드 되어 돌아왔습니다.\\n 수험생의 입장에서 가장 보기 쉽고 효율적으로 공부할 수 있는 한국사 교재이자 서익환 강사의 판서 및 모든 노하우를 단 120페이지로 축약하여 이 한 권으로 공무원 합격에 가장 빨리 도달할 수 있습니다.\"\n",
      "\t\t},\n",
      "\t\t{\n",
      "\t\t\t\"title\":\"알 낳는 황소 (슬기)\",\n",
      "\t\t\t\"link\":\"https:\\/\\/search.shopping.naver.com\\/book\\/catalog\\/32454184719\",\n",
      "\t\t\t\"image\":\"https:\\/\\/shopping-phinf.pstatic.net\\/main_3245418\\/32454184719.20221019143035.jpg\",\n",
      "\t\t\t\"author\":\"김기린\",\n",
      "\t\t\t\"discount\":\"8100\",\n",
      "\t\t\t\"publisher\":\"한국헤밍웨이\",\n",
      "\t\t\t\"pubdate\":\"20150828\",\n",
      "\t\t\t\"isbn\":\"9791156082767\",\n",
      "\t\t\t\"description\":\"집중, 창작, 겸손, 약속, 양심, 슬기, 효도, 은혜, 이기심 등 아이들이 훌륭하게 성장할 수 있도록 해줄 중요한 가치에 대해 다룬「말랑말랑 우리창장독화」시리즈 『알 낳는 황소』. 재미있는 창작 동화를 읽으면서 살아가는데 있어 필요한 여러 가지 가치를 배울 수 있습니다. 아이들의 호기심을 자극하고, 책에 대한 재미를 알려줍니다. 큼직하고 개성적인 그림은 보는 즐거움을 더합니다.\"\n",
      "\t\t},\n",
      "\t\t{\n",
      "\t\t\t\"title\":\"알 낳는 황소 (슬기)\",\n",
      "\t\t\t\"link\":\"https:\\/\\/search.shopping.naver.com\\/book\\/catalog\\/32466841743\",\n",
      "\t\t\t\"image\":\"https:\\/\\/shopping-phinf.pstatic.net\\/main_3246684\\/32466841743.20221230073838.jpg\",\n",
      "\t\t\t\"author\":\"김기린\",\n",
      "\t\t\t\"discount\":\"9000\",\n",
      "\t\t\t\"publisher\":\"한국톨스토이\",\n",
      "\t\t\t\"pubdate\":\"20141008\",\n",
      "\t\t\t\"isbn\":\"9788966451623\",\n",
      "\t\t\t\"description\":\"가치 단어 슬기에 대한 작가 생각\\n여러분은 자라면서 어려운 일을 맞닥뜨릴 수 있어요.\\n그럴 때 주저앉아 울기만 해서는 안 되겠지요?\\n어려운 일을 잘 풀어 나가는 것을 슬기롭다고 해요.\\n이야기 속 나무꾼의 아들은 아주 슬기로워요.\\n나무꾼의 아들이 사또의 어처구니없는 행동에\\n어떻게 슬기롭게 맞서는지 읽어 보세요.\\n동화 작가 김기린\"\n",
      "\t\t},\n",
      "\t\t{\n",
      "\t\t\t\"title\":\"2022 서익환 공무원 한국사 국가직 지방직 최종정리 나온 것&나올 것 (시험장까지 가져가는 최종 정리집)\",\n",
      "\t\t\t\"link\":\"https:\\/\\/search.shopping.naver.com\\/book\\/catalog\\/32463355548\",\n",
      "\t\t\t\"image\":\"https:\\/\\/shopping-phinf.pstatic.net\\/main_3246335\\/32463355548.20221019114410.jpg\",\n",
      "\t\t\t\"author\":\"서익환\",\n",
      "\t\t\t\"discount\":\"10800\",\n",
      "\t\t\t\"publisher\":\"슬기책\",\n",
      "\t\t\t\"pubdate\":\"20220208\",\n",
      "\t\t\t\"isbn\":\"9791196357764\",\n",
      "\t\t\t\"description\":\"시험장까지 가져가는 공무원 한국사 최종정리집\\n\\n‘2022 서익환 공무원 한국사 국가직 지방직 최종정리 나온 것 & 나올 것’은 단기간에 효율적으로 전 범위를 압축 정리하여 만든 한국사 핵심 요약집이다.\\n최근 3개년 국가직, 지방직 시험에 출제되었던 핵심 주제 및 사료를 총 78개의 테마, 100페이지로 정리하여 수험 공부의 부담을 덜었고, 시험에 나온 것, 나올 것, 출제 예상, 미출제를 표시하여 수험생들이 최근 출제 경향에 맞춰 학습할 수 있도록 만들었다. 한 페이지에 핵심 정리와 기출 문제, 최근 출제 경향에 맞춘 예상 문제까지 넣어 시험 전 마지막으로 점검하기에 좋은 최적의 교재이다.\"\n",
      "\t\t},\n",
      "\t\t{\n",
      "\t\t\t\"title\":\"어떻게 성찰하는가 (주체적 사유 방법에 관한 대화)\",\n",
      "\t\t\t\"link\":\"https:\\/\\/search.shopping.naver.com\\/book\\/catalog\\/32456405819\",\n",
      "\t\t\t\"image\":\"https:\\/\\/shopping-phinf.pstatic.net\\/main_3245640\\/32456405819.20221228074152.jpg\",\n",
      "\t\t\t\"author\":\"백문호\",\n",
      "\t\t\t\"discount\":\"10800\",\n",
      "\t\t\t\"publisher\":\"슬기\",\n",
      "\t\t\t\"pubdate\":\"20150910\",\n",
      "\t\t\t\"isbn\":\"9791195569106\",\n",
      "\t\t\t\"description\":\"주체적 사유 방법을 독창적으로 설명한 책. 철학의 가장 근원적인 부분인 사유 자체를 정면으로 다루고 있다. 1부에서는 주체적으로 사유하는 방법에 대해 구체적으로 얘기한다. 어떻게 사유할 수 있는지, 지혜는 무엇인지, 성찰과 깨달음을 통해 어떻게 지혜를 습득하는지를 실생활의 예로 생생하게 보여준다.\\n\\n\\n\\n2부에서는 저자 자신의 독자적인 철학을 말한다. 저자는 철학, 과학, 그리고 사회적 문제들의 출발점에는 사유가 있다고 생각한다. 나아가 사유 자체가 갖고 있는 필연적인 문제점이 무엇인지를 말하고 이를 극복하는 방법에 대해 이야기한다.\"\n",
      "\t\t},\n",
      "\t\t{\n",
      "\t\t\t\"title\":\"세 딸 길들이기 (슬기)\",\n",
      "\t\t\t\"link\":\"https:\\/\\/search.shopping.naver.com\\/book\\/catalog\\/32492719987\",\n",
      "\t\t\t\"image\":\"https:\\/\\/shopping-phinf.pstatic.net\\/main_3249271\\/32492719987.20220520231508.jpg\",\n",
      "\t\t\t\"author\":\"\",\n",
      "\t\t\t\"discount\":\"9000\",\n",
      "\t\t\t\"publisher\":\"한국톨스토이\",\n",
      "\t\t\t\"pubdate\":\"20140701\",\n",
      "\t\t\t\"isbn\":\"9788963293943\",\n",
      "\t\t\t\"description\":\"재치있는 이솝우화.지혜로운 탈무드 시리즈. 언제나 웃음을 잃지 않는 재치로운 아이로 길러 주는 교훈서, 이솝 우화. 유대인을 세계를 움직이는 민족으로 키워 준 위대한 지침서, 탈무드. 수천 년 전부터 전해 내려온 이야기인 이솝 우화와 탈무드를 동화작가 고정욱, 이상교, 이규희, 소중애, 윤수천 등이 요즘 아이들의 감성에 맞게 재미있고 생동감 넘치는 이야기로 구성했다.\"\n",
      "\t\t},\n",
      "\t\t{\n",
      "\t\t\t\"title\":\"솔로몬도 놀란 탈무드의 지혜 2 (슬기편) (슬기편)\",\n",
      "\t\t\t\"link\":\"https:\\/\\/search.shopping.naver.com\\/book\\/catalog\\/32486002699\",\n",
      "\t\t\t\"image\":\"https:\\/\\/shopping-phinf.pstatic.net\\/main_3248600\\/32486002699.20221229073612.jpg\",\n",
      "\t\t\t\"author\":\"서영수\",\n",
      "\t\t\t\"discount\":\"7650\",\n",
      "\t\t\t\"publisher\":\"몽당연필\",\n",
      "\t\t\t\"pubdate\":\"20080210\",\n",
      "\t\t\t\"isbn\":\"9788989833192\",\n",
      "\t\t\t\"description\":\"탈무드의 지혜를 배워라!\\n\\n만화가 서영수의 『솔로몬도 놀란 탈무드의 지혜』 제2권 〈슬기편〉. 5,000여 년에 걸친 유대인의 정치, 문화, 경제, 그리고 삶의 지혜가 고스란히 살아숨쉬는 탈무드를 아이들이 쉽게 이해할 수 있도록 만화로 재구성한 것이다. \\n\\n이 책은 인생의 지혜와 인간의 도리를 일깨워 아이들의 미래를 밝게 비출 뿐 아니라, 어른들에게는 인생을 돌아보는 여유를 갖게 해준다. 특히 교훈을 강요하기보다는 비유와 반전을 통해 마음 속으로부터 조용한 깨달음을 이끌어내고 있다. 전체컬러.\"\n",
      "\t\t},\n",
      "\t\t{\n",
      "\t\t\t\"title\":\"2022 서익환 공무원 한국사 고난도 사료 핵심지문 고-엑스\",\n",
      "\t\t\t\"link\":\"https:\\/\\/search.shopping.naver.com\\/book\\/catalog\\/32467087629\",\n",
      "\t\t\t\"image\":\"https:\\/\\/shopping-phinf.pstatic.net\\/main_3246708\\/32467087629.20221101101745.jpg\",\n",
      "\t\t\t\"author\":\"서익환\",\n",
      "\t\t\t\"discount\":\"12600\",\n",
      "\t\t\t\"publisher\":\"슬기책\",\n",
      "\t\t\t\"pubdate\":\"20210928\",\n",
      "\t\t\t\"isbn\":\"9791196357757\",\n",
      "\t\t\t\"description\":\"기출 핵심 지문과 고난도 사료로 실전을 대비하는 완벽한 공무원 한국사 복습 & 최종 정리 교재.\\n\\n『2022 서익환 공무원 한국사 고난도 사료 핵심지문 OX 고엑스』는 기출지문 OX와 사료 빈칸 채우기를 결합하여 공무원 한국사 복습과 시험 전 최종 정리 시 실력점검에 필수적인 교재이다. 방대한 양의 기출 지문을 중복 지문 없이 모두 걸러내어 120페이지로 압축하였고 2021년 최신 공무원 한국사 기출문제까지 반영하였으며 수험생들에게 생소한 새로운 사료와 고난도 사료 빈칸 채우기를 추가하였다. 또한 ‘아.푸다. - 아는것과 푸는 것은 다르다’를 추가하여 서쌤만의 문제풀이 tip과 주요 암기 방법, 실전 풀이 노하우 등을 매 단원마다 정리하였다. 이 책은 공무원 한국사 회독을 여러 번 하여도 생소한 지문에 헷갈리는 수험생들을 위해 배운 내용을 문제에 적용할 수 있도록 연습할 수 있는 최적의 공무원 수험서이다.\"\n",
      "\t\t}\n",
      "\t]\n",
      "}\n"
     ]
    }
   ],
   "source": [
    "# 네이버 검색 API 예제 - 블로그 검색\n",
    "import os\n",
    "import sys\n",
    "import urllib.request\n",
    "\n",
    "client_id = \"aBUEo3o1bXnyEGIPk09r\"\n",
    "client_secret = \"rG4mw35IKg\"\n",
    "\n",
    "encText = urllib.parse.quote(\"슬기\")\n",
    "url = \"https://openapi.naver.com/v1/search/book?query=\" + encText # JSON 결과\n",
    "# url = \"https://openapi.naver.com/v1/search/blog.xml?query=\" + encText # XML 결과\n",
    "request = urllib.request.Request(url)\n",
    "request.add_header(\"X-Naver-Client-Id\",client_id)\n",
    "request.add_header(\"X-Naver-Client-Secret\",client_secret)\n",
    "response = urllib.request.urlopen(request)\n",
    "rescode = response.getcode()\n",
    "\n",
    "if(rescode==200):\n",
    "    response_body = response.read()\n",
    "    print(response_body.decode('utf-8'))\n",
    "else:\n",
    "    print(\"Error Code:\" + rescode)"
   ]
  },
  {
   "cell_type": "markdown",
   "id": "52630fb0",
   "metadata": {},
   "source": [
    "## 검색: 영화(movie)`"
   ]
  },
  {
   "cell_type": "code",
   "execution_count": 9,
   "id": "9ec3b5d0",
   "metadata": {},
   "outputs": [
    {
     "name": "stdout",
     "output_type": "stream",
     "text": [
      "{\n",
      "\t\"lastBuildDate\":\"Sun, 05 Feb 2023 23:03:55 +0900\",\n",
      "\t\"total\":1,\n",
      "\t\"start\":1,\n",
      "\t\"display\":1,\n",
      "\t\"items\":[\n",
      "\t\t{\n",
      "\t\t\t\"title\":\"선희와 <b>슬기<\\/b>\",\n",
      "\t\t\t\"link\":\"https:\\/\\/movie.naver.com\\/movie\\/bi\\/mi\\/basic.nhn?code=179306\",\n",
      "\t\t\t\"image\":\"https:\\/\\/ssl.pstatic.net\\/imgmovie\\/mdi\\/mit110\\/1793\\/179306_P12_094922.jpg\",\n",
      "\t\t\t\"subtitle\":\"Second Life\",\n",
      "\t\t\t\"pubDate\":\"2018\",\n",
      "\t\t\t\"director\":\"박영주|\",\n",
      "\t\t\t\"actor\":\"정다은|\",\n",
      "\t\t\t\"userRating\":\"7.58\"\n",
      "\t\t}\n",
      "\t]\n",
      "}\n"
     ]
    }
   ],
   "source": [
    "# 네이버 검색 API 예제 - 블로그 검색\n",
    "import os\n",
    "import sys\n",
    "import urllib.request\n",
    "\n",
    "client_id = \"aBUEo3o1bXnyEGIPk09r\"\n",
    "client_secret = \"rG4mw35IKg\"\n",
    "\n",
    "encText = urllib.parse.quote(\"슬기\")\n",
    "url = \"https://openapi.naver.com/v1/search/movie?query=\" + encText # JSON 결과\n",
    "# url = \"https://openapi.naver.com/v1/search/blog.xml?query=\" + encText # XML 결과\n",
    "request = urllib.request.Request(url)\n",
    "request.add_header(\"X-Naver-Client-Id\",client_id)\n",
    "request.add_header(\"X-Naver-Client-Secret\",client_secret)\n",
    "response = urllib.request.urlopen(request)\n",
    "rescode = response.getcode()\n",
    "\n",
    "if(rescode==200):\n",
    "    response_body = response.read()\n",
    "    print(response_body.decode('utf-8'))\n",
    "else:\n",
    "    print(\"Error Code:\" + rescode)"
   ]
  },
  {
   "cell_type": "markdown",
   "id": "768e9f73",
   "metadata": {},
   "source": [
    "---"
   ]
  },
  {
   "cell_type": "markdown",
   "id": "d04bd5a3",
   "metadata": {},
   "source": [
    "## 3. 상품 검색 \n",
    "- \"몰스킨\""
   ]
  },
  {
   "cell_type": "code",
   "execution_count": 10,
   "id": "6b238451",
   "metadata": {},
   "outputs": [
    {
     "name": "stdout",
     "output_type": "stream",
     "text": [
      "{\n",
      "\t\"lastBuildDate\":\"Mon, 06 Feb 2023 09:44:25 +0900\",\n",
      "\t\"total\":43360,\n",
      "\t\"start\":1,\n",
      "\t\"display\":10,\n",
      "\t\"items\":[\n",
      "\t\t{\n",
      "\t\t\t\"title\":\"<b>몰스킨<\\/b> 2023 다이어리 위클리 소프트커버\",\n",
      "\t\t\t\"link\":\"https:\\/\\/search.shopping.naver.com\\/gate.nhn?id=84662525433\",\n",
      "\t\t\t\"image\":\"https:\\/\\/shopping-phinf.pstatic.net\\/main_8466252\\/84662525433.2.jpg\",\n",
      "\t\t\t\"lprice\":\"18900\",\n",
      "\t\t\t\"hprice\":\"\",\n",
      "\t\t\t\"mallName\":\"베스트펜\",\n",
      "\t\t\t\"productId\":\"84662525433\",\n",
      "\t\t\t\"productType\":\"2\",\n",
      "\t\t\t\"brand\":\"몰스킨\",\n",
      "\t\t\t\"maker\":\"\",\n",
      "\t\t\t\"category1\":\"생활\\/건강\",\n",
      "\t\t\t\"category2\":\"문구\\/사무용품\",\n",
      "\t\t\t\"category3\":\"다이어리\\/플래너\",\n",
      "\t\t\t\"category4\":\"다이어리\"\n",
      "\t\t},\n",
      "\t\t{\n",
      "\t\t\t\"title\":\"<b>몰스킨<\\/b> 노트 가죽 하드커버 감성 고급 업무용 이쁜 심플\",\n",
      "\t\t\t\"link\":\"https:\\/\\/search.shopping.naver.com\\/gate.nhn?id=82526953942\",\n",
      "\t\t\t\"image\":\"https:\\/\\/shopping-phinf.pstatic.net\\/main_8252695\\/82526953942.7.jpg\",\n",
      "\t\t\t\"lprice\":\"24000\",\n",
      "\t\t\t\"hprice\":\"\",\n",
      "\t\t\t\"mallName\":\"베스트펜\",\n",
      "\t\t\t\"productId\":\"82526953942\",\n",
      "\t\t\t\"productType\":\"2\",\n",
      "\t\t\t\"brand\":\"몰스킨\",\n",
      "\t\t\t\"maker\":\"\",\n",
      "\t\t\t\"category1\":\"생활\\/건강\",\n",
      "\t\t\t\"category2\":\"문구\\/사무용품\",\n",
      "\t\t\t\"category3\":\"노트\\/수첩\",\n",
      "\t\t\t\"category4\":\"노트\"\n",
      "\t\t},\n",
      "\t\t{\n",
      "\t\t\t\"title\":\"<b>몰스킨<\\/b> 2023 데일리 12개월 다이어리 L\",\n",
      "\t\t\t\"link\":\"https:\\/\\/search.shopping.naver.com\\/gate.nhn?id=34543729266\",\n",
      "\t\t\t\"image\":\"https:\\/\\/shopping-phinf.pstatic.net\\/main_3454372\\/34543729266.20230118023559.jpg\",\n",
      "\t\t\t\"lprice\":\"38030\",\n",
      "\t\t\t\"hprice\":\"\",\n",
      "\t\t\t\"mallName\":\"네이버\",\n",
      "\t\t\t\"productId\":\"34543729266\",\n",
      "\t\t\t\"productType\":\"1\",\n",
      "\t\t\t\"brand\":\"몰스킨\",\n",
      "\t\t\t\"maker\":\"몰스킨\",\n",
      "\t\t\t\"category1\":\"생활\\/건강\",\n",
      "\t\t\t\"category2\":\"문구\\/사무용품\",\n",
      "\t\t\t\"category3\":\"다이어리\\/플래너\",\n",
      "\t\t\t\"category4\":\"다이어리\"\n",
      "\t\t},\n",
      "\t\t{\n",
      "\t\t\t\"title\":\"[<b>몰스킨<\\/b>] 2023년 클래식 다이어리(12개월) (데일리, 위클리, 먼슬리)\",\n",
      "\t\t\t\"link\":\"https:\\/\\/search.shopping.naver.com\\/gate.nhn?id=34373302556\",\n",
      "\t\t\t\"image\":\"https:\\/\\/shopping-phinf.pstatic.net\\/main_3437330\\/34373302556.jpg\",\n",
      "\t\t\t\"lprice\":\"21600\",\n",
      "\t\t\t\"hprice\":\"\",\n",
      "\t\t\t\"mallName\":\"몰스킨공식온라인스토어\",\n",
      "\t\t\t\"productId\":\"34373302556\",\n",
      "\t\t\t\"productType\":\"2\",\n",
      "\t\t\t\"brand\":\"몰스킨\",\n",
      "\t\t\t\"maker\":\"\",\n",
      "\t\t\t\"category1\":\"생활\\/건강\",\n",
      "\t\t\t\"category2\":\"문구\\/사무용품\",\n",
      "\t\t\t\"category3\":\"다이어리\\/플래너\",\n",
      "\t\t\t\"category4\":\"다이어리\"\n",
      "\t\t},\n",
      "\t\t{\n",
      "\t\t\t\"title\":\"빈폴 BEANPOLE MEN <b>몰스킨<\\/b> 프렌치 워크 재킷 W BC2911C19P 2022F\",\n",
      "\t\t\t\"link\":\"https:\\/\\/search.shopping.naver.com\\/gate.nhn?id=35704136246\",\n",
      "\t\t\t\"image\":\"https:\\/\\/shopping-phinf.pstatic.net\\/main_3570413\\/35704136246.20221109194659.jpg\",\n",
      "\t\t\t\"lprice\":\"203890\",\n",
      "\t\t\t\"hprice\":\"\",\n",
      "\t\t\t\"mallName\":\"네이버\",\n",
      "\t\t\t\"productId\":\"35704136246\",\n",
      "\t\t\t\"productType\":\"1\",\n",
      "\t\t\t\"brand\":\"빈폴\",\n",
      "\t\t\t\"maker\":\"삼성물산\",\n",
      "\t\t\t\"category1\":\"패션의류\",\n",
      "\t\t\t\"category2\":\"남성의류\",\n",
      "\t\t\t\"category3\":\"재킷\",\n",
      "\t\t\t\"category4\":\"\"\n",
      "\t\t},\n",
      "\t\t{\n",
      "\t\t\t\"title\":\"다니엘크레뮤 22FW 헤비 코튼 <b>몰스킨<\\/b> 팬츠 3종\",\n",
      "\t\t\t\"link\":\"https:\\/\\/search.shopping.naver.com\\/gate.nhn?id=35297774696\",\n",
      "\t\t\t\"image\":\"https:\\/\\/shopping-phinf.pstatic.net\\/main_3529777\\/35297774696.20221018121155.jpg\",\n",
      "\t\t\t\"lprice\":\"92460\",\n",
      "\t\t\t\"hprice\":\"\",\n",
      "\t\t\t\"mallName\":\"네이버\",\n",
      "\t\t\t\"productId\":\"35297774696\",\n",
      "\t\t\t\"productType\":\"1\",\n",
      "\t\t\t\"brand\":\"다니엘크레뮤\",\n",
      "\t\t\t\"maker\":\"\",\n",
      "\t\t\t\"category1\":\"패션의류\",\n",
      "\t\t\t\"category2\":\"남성의류\",\n",
      "\t\t\t\"category3\":\"바지\",\n",
      "\t\t\t\"category4\":\"\"\n",
      "\t\t},\n",
      "\t\t{\n",
      "\t\t\t\"title\":\"2023 스타벅스 다이어리 프리퀀시 그린 플래너\",\n",
      "\t\t\t\"link\":\"https:\\/\\/search.shopping.naver.com\\/gate.nhn?id=85132105601\",\n",
      "\t\t\t\"image\":\"https:\\/\\/shopping-phinf.pstatic.net\\/main_8513210\\/85132105601.jpg\",\n",
      "\t\t\t\"lprice\":\"32900\",\n",
      "\t\t\t\"hprice\":\"\",\n",
      "\t\t\t\"mallName\":\"한정판매니아\",\n",
      "\t\t\t\"productId\":\"85132105601\",\n",
      "\t\t\t\"productType\":\"2\",\n",
      "\t\t\t\"brand\":\"스타벅스\",\n",
      "\t\t\t\"maker\":\"몰스킨\",\n",
      "\t\t\t\"category1\":\"생활\\/건강\",\n",
      "\t\t\t\"category2\":\"문구\\/사무용품\",\n",
      "\t\t\t\"category3\":\"다이어리\\/플래너\",\n",
      "\t\t\t\"category4\":\"다이어리\"\n",
      "\t\t},\n",
      "\t\t{\n",
      "\t\t\t\"title\":\"다니엘크레뮤 21FW DC 21FW 라이크라 해비 코튼 <b>몰스킨<\\/b> 팬츠 DYSOXX00193\",\n",
      "\t\t\t\"link\":\"https:\\/\\/search.shopping.naver.com\\/gate.nhn?id=37197232943\",\n",
      "\t\t\t\"image\":\"https:\\/\\/shopping-phinf.pstatic.net\\/main_3719723\\/37197232943.20230114111444.jpg\",\n",
      "\t\t\t\"lprice\":\"26420\",\n",
      "\t\t\t\"hprice\":\"\",\n",
      "\t\t\t\"mallName\":\"네이버\",\n",
      "\t\t\t\"productId\":\"37197232943\",\n",
      "\t\t\t\"productType\":\"1\",\n",
      "\t\t\t\"brand\":\"다니엘크레뮤\",\n",
      "\t\t\t\"maker\":\"예성D&F\",\n",
      "\t\t\t\"category1\":\"패션의류\",\n",
      "\t\t\t\"category2\":\"남성의류\",\n",
      "\t\t\t\"category3\":\"바지\",\n",
      "\t\t\t\"category4\":\"\"\n",
      "\t\t},\n",
      "\t\t{\n",
      "\t\t\t\"title\":\"<b>몰스킨<\\/b> 클래식 노트 소프트커버 포켓 모음\",\n",
      "\t\t\t\"link\":\"https:\\/\\/search.shopping.naver.com\\/gate.nhn?id=25867775013\",\n",
      "\t\t\t\"image\":\"https:\\/\\/shopping-phinf.pstatic.net\\/main_2586777\\/25867775013.20210204192445.jpg\",\n",
      "\t\t\t\"lprice\":\"23000\",\n",
      "\t\t\t\"hprice\":\"\",\n",
      "\t\t\t\"mallName\":\"네이버\",\n",
      "\t\t\t\"productId\":\"25867775013\",\n",
      "\t\t\t\"productType\":\"1\",\n",
      "\t\t\t\"brand\":\"몰스킨\",\n",
      "\t\t\t\"maker\":\"몰스킨\",\n",
      "\t\t\t\"category1\":\"생활\\/건강\",\n",
      "\t\t\t\"category2\":\"문구\\/사무용품\",\n",
      "\t\t\t\"category3\":\"노트\\/수첩\",\n",
      "\t\t\t\"category4\":\"노트\"\n",
      "\t\t},\n",
      "\t\t{\n",
      "\t\t\t\"title\":\"<b>몰스킨<\\/b> 클래식 노트 하드커버 플레인 포켓 머틀그린\",\n",
      "\t\t\t\"link\":\"https:\\/\\/search.shopping.naver.com\\/gate.nhn?id=81836296315\",\n",
      "\t\t\t\"image\":\"https:\\/\\/shopping-phinf.pstatic.net\\/main_8183629\\/81836296315.jpg\",\n",
      "\t\t\t\"lprice\":\"24000\",\n",
      "\t\t\t\"hprice\":\"\",\n",
      "\t\t\t\"mallName\":\"몰스킨스토어\",\n",
      "\t\t\t\"productId\":\"81836296315\",\n",
      "\t\t\t\"productType\":\"2\",\n",
      "\t\t\t\"brand\":\"몰스킨\",\n",
      "\t\t\t\"maker\":\"몰스킨\",\n",
      "\t\t\t\"category1\":\"생활\\/건강\",\n",
      "\t\t\t\"category2\":\"문구\\/사무용품\",\n",
      "\t\t\t\"category3\":\"노트\\/수첩\",\n",
      "\t\t\t\"category4\":\"노트\"\n",
      "\t\t}\n",
      "\t]\n",
      "}\n"
     ]
    }
   ],
   "source": [
    "# 네이버 검색 API 예제 - 블로그 검색\n",
    "import os\n",
    "import sys\n",
    "import urllib.request\n",
    "\n",
    "client_id = \"aBUEo3o1bXnyEGIPk09r\"\n",
    "client_secret = \"rG4mw35IKg\"\n",
    "\n",
    "encText = urllib.parse.quote(\"몰스킨\")\n",
    "url = \"https://openapi.naver.com/v1/search/shop?query=\" + encText # JSON 결과\n",
    "# url = \"https://openapi.naver.com/v1/search/blog.xml?query=\" + encText # XML 결과\n",
    "request = urllib.request.Request(url)\n",
    "request.add_header(\"X-Naver-Client-Id\",client_id)\n",
    "request.add_header(\"X-Naver-Client-Secret\",client_secret)\n",
    "response = urllib.request.urlopen(request)\n",
    "rescode = response.getcode()\n",
    "\n",
    "if(rescode==200):\n",
    "    response_body = response.read()\n",
    "    print(response_body.decode('utf-8'))\n",
    "else:\n",
    "    print(\"Error Code:\" + rescode)"
   ]
  },
  {
   "cell_type": "markdown",
   "id": "f6245ddd",
   "metadata": {},
   "source": [
    "encText = urllib.parse.quote(\"몰스킨\")\n",
    "url = \"https://openapi.naver.com/v1/search/shop?query=\" + encText # JSON 결과"
   ]
  },
  {
   "cell_type": "code",
   "execution_count": 29,
   "id": "57529ada",
   "metadata": {},
   "outputs": [],
   "source": [
    "def gen_search_url(api_node, search_text, start_num, disp_num):\n",
    "    base = 'https://openapi.naver.com/v1/search'\n",
    "    node = '/' + api_node +'.json'\n",
    "    param_query = '?query=' + urllib.parse.quote(search_text)\n",
    "    param_start = '&start=' + str(start_num)\n",
    "    param_disp = '&display=' + str(disp_num)\n",
    "    \n",
    "    return base + node + param_query + param_start + param_disp"
   ]
  },
  {
   "cell_type": "code",
   "execution_count": 30,
   "id": "748148eb",
   "metadata": {},
   "outputs": [
    {
     "data": {
      "text/plain": [
       "'https://openapi.naver.com/v1/search/shop.json?query=Test&start=10&display=3'"
      ]
     },
     "execution_count": 30,
     "metadata": {},
     "output_type": "execute_result"
    }
   ],
   "source": [
    "gen_search_url('shop','Test',10,3)"
   ]
  },
  {
   "cell_type": "markdown",
   "id": "eccf7f3b",
   "metadata": {},
   "source": [
    "## (1) gen_search_url()"
   ]
  },
  {
   "cell_type": "code",
   "execution_count": 31,
   "id": "4ed02951",
   "metadata": {},
   "outputs": [],
   "source": [
    "import json\n",
    "import datetime\n",
    "\n",
    "def get_result_onpage(url):\n",
    "    request = urllib.request.Request(url)\n",
    "    request.add_header(\"X-Naver-Client-Id\",client_id)\n",
    "    request.add_header(\"X-Naver-Client-Secret\",client_secret)\n",
    "    response = urllib.request.urlopen(request)\n",
    "    print('[%s] Url Request Success' % datetime.datetime.now())\n",
    "    return json.loads(response.read().decode('utf-8'))"
   ]
  },
  {
   "cell_type": "code",
   "execution_count": 32,
   "id": "a6211c26",
   "metadata": {},
   "outputs": [
    {
     "data": {
      "text/plain": [
       "datetime.datetime(2023, 2, 6, 10, 10, 30, 967009)"
      ]
     },
     "execution_count": 32,
     "metadata": {},
     "output_type": "execute_result"
    }
   ],
   "source": [
    "datetime.datetime.now()"
   ]
  },
  {
   "cell_type": "code",
   "execution_count": 33,
   "id": "09b9128e",
   "metadata": {},
   "outputs": [
    {
     "name": "stdout",
     "output_type": "stream",
     "text": [
      "[2023-02-06 10:10:31.824010] Url Request Success\n"
     ]
    }
   ],
   "source": [
    "url = gen_search_url('shop','몰스킨',1,5)\n",
    "one_result = get_result_onpage(url)"
   ]
  },
  {
   "cell_type": "code",
   "execution_count": 34,
   "id": "85162faf",
   "metadata": {},
   "outputs": [
    {
     "data": {
      "text/plain": [
       "{'lastBuildDate': 'Mon, 06 Feb 2023 10:10:26 +0900',\n",
       " 'total': 43363,\n",
       " 'start': 1,\n",
       " 'display': 5,\n",
       " 'items': [{'title': '<b>몰스킨</b> 2023 다이어리 위클리 소프트커버',\n",
       "   'link': 'https://search.shopping.naver.com/gate.nhn?id=84662525433',\n",
       "   'image': 'https://shopping-phinf.pstatic.net/main_8466252/84662525433.2.jpg',\n",
       "   'lprice': '18900',\n",
       "   'hprice': '',\n",
       "   'mallName': '베스트펜',\n",
       "   'productId': '84662525433',\n",
       "   'productType': '2',\n",
       "   'brand': '몰스킨',\n",
       "   'maker': '',\n",
       "   'category1': '생활/건강',\n",
       "   'category2': '문구/사무용품',\n",
       "   'category3': '다이어리/플래너',\n",
       "   'category4': '다이어리'},\n",
       "  {'title': '<b>몰스킨</b> 노트 가죽 하드커버 감성 고급 업무용 이쁜 심플',\n",
       "   'link': 'https://search.shopping.naver.com/gate.nhn?id=82526953942',\n",
       "   'image': 'https://shopping-phinf.pstatic.net/main_8252695/82526953942.7.jpg',\n",
       "   'lprice': '24000',\n",
       "   'hprice': '',\n",
       "   'mallName': '베스트펜',\n",
       "   'productId': '82526953942',\n",
       "   'productType': '2',\n",
       "   'brand': '몰스킨',\n",
       "   'maker': '',\n",
       "   'category1': '생활/건강',\n",
       "   'category2': '문구/사무용품',\n",
       "   'category3': '노트/수첩',\n",
       "   'category4': '노트'},\n",
       "  {'title': '<b>몰스킨</b> 2023 데일리 12개월 다이어리 L',\n",
       "   'link': 'https://search.shopping.naver.com/gate.nhn?id=34543729266',\n",
       "   'image': 'https://shopping-phinf.pstatic.net/main_3454372/34543729266.20230118023559.jpg',\n",
       "   'lprice': '38030',\n",
       "   'hprice': '',\n",
       "   'mallName': '네이버',\n",
       "   'productId': '34543729266',\n",
       "   'productType': '1',\n",
       "   'brand': '몰스킨',\n",
       "   'maker': '몰스킨',\n",
       "   'category1': '생활/건강',\n",
       "   'category2': '문구/사무용품',\n",
       "   'category3': '다이어리/플래너',\n",
       "   'category4': '다이어리'},\n",
       "  {'title': '[<b>몰스킨</b>] 2023년 클래식 다이어리(12개월) (데일리, 위클리, 먼슬리)',\n",
       "   'link': 'https://search.shopping.naver.com/gate.nhn?id=34373302556',\n",
       "   'image': 'https://shopping-phinf.pstatic.net/main_3437330/34373302556.jpg',\n",
       "   'lprice': '21600',\n",
       "   'hprice': '',\n",
       "   'mallName': '몰스킨공식온라인스토어',\n",
       "   'productId': '34373302556',\n",
       "   'productType': '2',\n",
       "   'brand': '몰스킨',\n",
       "   'maker': '',\n",
       "   'category1': '생활/건강',\n",
       "   'category2': '문구/사무용품',\n",
       "   'category3': '다이어리/플래너',\n",
       "   'category4': '다이어리'},\n",
       "  {'title': '빈폴 BEANPOLE MEN <b>몰스킨</b> 프렌치 워크 재킷 W BC2911C19P 2022F',\n",
       "   'link': 'https://search.shopping.naver.com/gate.nhn?id=35704136246',\n",
       "   'image': 'https://shopping-phinf.pstatic.net/main_3570413/35704136246.20221109194659.jpg',\n",
       "   'lprice': '203890',\n",
       "   'hprice': '',\n",
       "   'mallName': '네이버',\n",
       "   'productId': '35704136246',\n",
       "   'productType': '1',\n",
       "   'brand': '빈폴',\n",
       "   'maker': '삼성물산',\n",
       "   'category1': '패션의류',\n",
       "   'category2': '남성의류',\n",
       "   'category3': '재킷',\n",
       "   'category4': ''}]}"
      ]
     },
     "execution_count": 34,
     "metadata": {},
     "output_type": "execute_result"
    }
   ],
   "source": [
    "one_result"
   ]
  },
  {
   "cell_type": "code",
   "execution_count": null,
   "id": "f7bc6d65",
   "metadata": {},
   "outputs": [],
   "source": []
  },
  {
   "cell_type": "code",
   "execution_count": 35,
   "id": "dfae9efd",
   "metadata": {},
   "outputs": [
    {
     "data": {
      "text/plain": [
       "'<b>몰스킨</b> 2023 다이어리 위클리 소프트커버'"
      ]
     },
     "execution_count": 35,
     "metadata": {},
     "output_type": "execute_result"
    }
   ],
   "source": [
    "one_result['items'][0]['title']"
   ]
  },
  {
   "cell_type": "code",
   "execution_count": 36,
   "id": "83f8adbb",
   "metadata": {},
   "outputs": [
    {
     "data": {
      "text/plain": [
       "'https://search.shopping.naver.com/gate.nhn?id=84662525433'"
      ]
     },
     "execution_count": 36,
     "metadata": {},
     "output_type": "execute_result"
    }
   ],
   "source": [
    "one_result['items'][0]['link']"
   ]
  },
  {
   "cell_type": "code",
   "execution_count": 37,
   "id": "259bc650",
   "metadata": {},
   "outputs": [
    {
     "data": {
      "text/plain": [
       "'베스트펜'"
      ]
     },
     "execution_count": 37,
     "metadata": {},
     "output_type": "execute_result"
    }
   ],
   "source": [
    "one_result['items'][0]['mallName']"
   ]
  },
  {
   "cell_type": "code",
   "execution_count": 38,
   "id": "7263f28e",
   "metadata": {},
   "outputs": [
    {
     "data": {
      "text/plain": [
       "'18900'"
      ]
     },
     "execution_count": 38,
     "metadata": {},
     "output_type": "execute_result"
    }
   ],
   "source": [
    "one_result['items'][0]['lprice']"
   ]
  },
  {
   "cell_type": "markdown",
   "id": "04001a10",
   "metadata": {},
   "source": [
    "## (3) get_fields()"
   ]
  },
  {
   "cell_type": "code",
   "execution_count": 39,
   "id": "12f9acda",
   "metadata": {},
   "outputs": [
    {
     "data": {
      "text/plain": [
       "{'title': '<b>몰스킨</b> 2023 다이어리 위클리 소프트커버',\n",
       " 'link': 'https://search.shopping.naver.com/gate.nhn?id=84662525433',\n",
       " 'image': 'https://shopping-phinf.pstatic.net/main_8466252/84662525433.2.jpg',\n",
       " 'lprice': '18900',\n",
       " 'hprice': '',\n",
       " 'mallName': '베스트펜',\n",
       " 'productId': '84662525433',\n",
       " 'productType': '2',\n",
       " 'brand': '몰스킨',\n",
       " 'maker': '',\n",
       " 'category1': '생활/건강',\n",
       " 'category2': '문구/사무용품',\n",
       " 'category3': '다이어리/플래너',\n",
       " 'category4': '다이어리'}"
      ]
     },
     "execution_count": 39,
     "metadata": {},
     "output_type": "execute_result"
    }
   ],
   "source": [
    "one_result[\"items\"][0]"
   ]
  },
  {
   "cell_type": "code",
   "execution_count": 40,
   "id": "535d4787",
   "metadata": {},
   "outputs": [],
   "source": [
    "import pandas as pd\n",
    "\n",
    "def get_field(json_data):\n",
    "    title = [each[\"title\"] for each in json_data[\"items\"]]\n",
    "    link = [each[\"link\"] for each in json_data[\"items\"]]\n",
    "    lprice = [each[\"lprice\"] for each in json_data[\"items\"]]\n",
    "    mall_name = [each[\"mallName\"] for each in json_data[\"items\"]]\n",
    "    \n",
    "    result_pd = pd.DataFrame({\n",
    "        'title':title,\n",
    "        \"link\": link,\n",
    "        \"lprice\": lprice, \n",
    "        \"mall\": mall_name,   \n",
    "    }, columns = ['title', 'lprice', 'link', 'mall']\n",
    "    )\n",
    "    return result_pd"
   ]
  },
  {
   "cell_type": "code",
   "execution_count": 41,
   "id": "1c809942",
   "metadata": {},
   "outputs": [
    {
     "data": {
      "text/html": [
       "<div>\n",
       "<style scoped>\n",
       "    .dataframe tbody tr th:only-of-type {\n",
       "        vertical-align: middle;\n",
       "    }\n",
       "\n",
       "    .dataframe tbody tr th {\n",
       "        vertical-align: top;\n",
       "    }\n",
       "\n",
       "    .dataframe thead th {\n",
       "        text-align: right;\n",
       "    }\n",
       "</style>\n",
       "<table border=\"1\" class=\"dataframe\">\n",
       "  <thead>\n",
       "    <tr style=\"text-align: right;\">\n",
       "      <th></th>\n",
       "      <th>title</th>\n",
       "      <th>lprice</th>\n",
       "      <th>link</th>\n",
       "      <th>mall</th>\n",
       "    </tr>\n",
       "  </thead>\n",
       "  <tbody>\n",
       "    <tr>\n",
       "      <th>0</th>\n",
       "      <td>&lt;b&gt;몰스킨&lt;/b&gt; 2023 다이어리 위클리 소프트커버</td>\n",
       "      <td>18900</td>\n",
       "      <td>https://search.shopping.naver.com/gate.nhn?id=...</td>\n",
       "      <td>베스트펜</td>\n",
       "    </tr>\n",
       "    <tr>\n",
       "      <th>1</th>\n",
       "      <td>&lt;b&gt;몰스킨&lt;/b&gt; 노트 가죽 하드커버 감성 고급 업무용 이쁜 심플</td>\n",
       "      <td>24000</td>\n",
       "      <td>https://search.shopping.naver.com/gate.nhn?id=...</td>\n",
       "      <td>베스트펜</td>\n",
       "    </tr>\n",
       "    <tr>\n",
       "      <th>2</th>\n",
       "      <td>&lt;b&gt;몰스킨&lt;/b&gt; 2023 데일리 12개월 다이어리 L</td>\n",
       "      <td>38030</td>\n",
       "      <td>https://search.shopping.naver.com/gate.nhn?id=...</td>\n",
       "      <td>네이버</td>\n",
       "    </tr>\n",
       "    <tr>\n",
       "      <th>3</th>\n",
       "      <td>[&lt;b&gt;몰스킨&lt;/b&gt;] 2023년 클래식 다이어리(12개월) (데일리, 위클리, 먼슬리)</td>\n",
       "      <td>21600</td>\n",
       "      <td>https://search.shopping.naver.com/gate.nhn?id=...</td>\n",
       "      <td>몰스킨공식온라인스토어</td>\n",
       "    </tr>\n",
       "    <tr>\n",
       "      <th>4</th>\n",
       "      <td>빈폴 BEANPOLE MEN &lt;b&gt;몰스킨&lt;/b&gt; 프렌치 워크 재킷 W BC2911C...</td>\n",
       "      <td>203890</td>\n",
       "      <td>https://search.shopping.naver.com/gate.nhn?id=...</td>\n",
       "      <td>네이버</td>\n",
       "    </tr>\n",
       "  </tbody>\n",
       "</table>\n",
       "</div>"
      ],
      "text/plain": [
       "                                               title  ...         mall\n",
       "0                     <b>몰스킨</b> 2023 다이어리 위클리 소프트커버  ...         베스트펜\n",
       "1              <b>몰스킨</b> 노트 가죽 하드커버 감성 고급 업무용 이쁜 심플  ...         베스트펜\n",
       "2                    <b>몰스킨</b> 2023 데일리 12개월 다이어리 L  ...          네이버\n",
       "3  [<b>몰스킨</b>] 2023년 클래식 다이어리(12개월) (데일리, 위클리, 먼슬리)  ...  몰스킨공식온라인스토어\n",
       "4  빈폴 BEANPOLE MEN <b>몰스킨</b> 프렌치 워크 재킷 W BC2911C...  ...          네이버\n",
       "\n",
       "[5 rows x 4 columns]"
      ]
     },
     "execution_count": 41,
     "metadata": {},
     "output_type": "execute_result"
    }
   ],
   "source": [
    "get_field(one_result)"
   ]
  },
  {
   "cell_type": "markdown",
   "id": "2a282078",
   "metadata": {},
   "source": [
    "## (4) delete_tag()"
   ]
  },
  {
   "cell_type": "code",
   "execution_count": 43,
   "id": "57ac5cb4",
   "metadata": {},
   "outputs": [],
   "source": [
    "def delete_tag(input_str):\n",
    "    input_str = input_str.replace('<b>','')\n",
    "    input_str = input_str.replace('</b>','')  \n",
    "    return input_str\n",
    "    \n",
    "    "
   ]
  },
  {
   "cell_type": "code",
   "execution_count": 44,
   "id": "c89bf4d4",
   "metadata": {},
   "outputs": [],
   "source": [
    "import pandas as pd\n",
    "\n",
    "def get_field(json_data):\n",
    "    title = [delete_tag(each[\"title\"]) for each in json_data[\"items\"]]\n",
    "    link = [each[\"link\"] for each in json_data[\"items\"]]\n",
    "    lprice = [each[\"lprice\"] for each in json_data[\"items\"]]\n",
    "    mall_name = [each[\"mallName\"] for each in json_data[\"items\"]]\n",
    "    \n",
    "    result_pd = pd.DataFrame({\n",
    "        'title':title,\n",
    "        \"link\": link,\n",
    "        \"lprice\": lprice, \n",
    "        \"mall\": mall_name,   \n",
    "    }, columns = ['title', 'lprice', 'link', 'mall']\n",
    "    )\n",
    "    return result_pd"
   ]
  },
  {
   "cell_type": "code",
   "execution_count": 45,
   "id": "ad83316a",
   "metadata": {},
   "outputs": [
    {
     "data": {
      "text/html": [
       "<div>\n",
       "<style scoped>\n",
       "    .dataframe tbody tr th:only-of-type {\n",
       "        vertical-align: middle;\n",
       "    }\n",
       "\n",
       "    .dataframe tbody tr th {\n",
       "        vertical-align: top;\n",
       "    }\n",
       "\n",
       "    .dataframe thead th {\n",
       "        text-align: right;\n",
       "    }\n",
       "</style>\n",
       "<table border=\"1\" class=\"dataframe\">\n",
       "  <thead>\n",
       "    <tr style=\"text-align: right;\">\n",
       "      <th></th>\n",
       "      <th>title</th>\n",
       "      <th>lprice</th>\n",
       "      <th>link</th>\n",
       "      <th>mall</th>\n",
       "    </tr>\n",
       "  </thead>\n",
       "  <tbody>\n",
       "    <tr>\n",
       "      <th>0</th>\n",
       "      <td>몰스킨 2023 다이어리 위클리 소프트커버</td>\n",
       "      <td>18900</td>\n",
       "      <td>https://search.shopping.naver.com/gate.nhn?id=...</td>\n",
       "      <td>베스트펜</td>\n",
       "    </tr>\n",
       "    <tr>\n",
       "      <th>1</th>\n",
       "      <td>몰스킨 노트 가죽 하드커버 감성 고급 업무용 이쁜 심플</td>\n",
       "      <td>24000</td>\n",
       "      <td>https://search.shopping.naver.com/gate.nhn?id=...</td>\n",
       "      <td>베스트펜</td>\n",
       "    </tr>\n",
       "    <tr>\n",
       "      <th>2</th>\n",
       "      <td>몰스킨 2023 데일리 12개월 다이어리 L</td>\n",
       "      <td>38030</td>\n",
       "      <td>https://search.shopping.naver.com/gate.nhn?id=...</td>\n",
       "      <td>네이버</td>\n",
       "    </tr>\n",
       "    <tr>\n",
       "      <th>3</th>\n",
       "      <td>[몰스킨] 2023년 클래식 다이어리(12개월) (데일리, 위클리, 먼슬리)</td>\n",
       "      <td>21600</td>\n",
       "      <td>https://search.shopping.naver.com/gate.nhn?id=...</td>\n",
       "      <td>몰스킨공식온라인스토어</td>\n",
       "    </tr>\n",
       "    <tr>\n",
       "      <th>4</th>\n",
       "      <td>빈폴 BEANPOLE MEN 몰스킨 프렌치 워크 재킷 W BC2911C19P 2022F</td>\n",
       "      <td>203890</td>\n",
       "      <td>https://search.shopping.naver.com/gate.nhn?id=...</td>\n",
       "      <td>네이버</td>\n",
       "    </tr>\n",
       "  </tbody>\n",
       "</table>\n",
       "</div>"
      ],
      "text/plain": [
       "                                              title  ...         mall\n",
       "0                           몰스킨 2023 다이어리 위클리 소프트커버  ...         베스트펜\n",
       "1                    몰스킨 노트 가죽 하드커버 감성 고급 업무용 이쁜 심플  ...         베스트펜\n",
       "2                          몰스킨 2023 데일리 12개월 다이어리 L  ...          네이버\n",
       "3        [몰스킨] 2023년 클래식 다이어리(12개월) (데일리, 위클리, 먼슬리)  ...  몰스킨공식온라인스토어\n",
       "4  빈폴 BEANPOLE MEN 몰스킨 프렌치 워크 재킷 W BC2911C19P 2022F  ...          네이버\n",
       "\n",
       "[5 rows x 4 columns]"
      ]
     },
     "execution_count": 45,
     "metadata": {},
     "output_type": "execute_result"
    }
   ],
   "source": [
    "get_field(one_result)"
   ]
  },
  {
   "cell_type": "code",
   "execution_count": 46,
   "id": "e218bbf3",
   "metadata": {},
   "outputs": [
    {
     "name": "stdout",
     "output_type": "stream",
     "text": [
      "[2023-02-06 10:21:54.687752] Url Request Success\n"
     ]
    }
   ],
   "source": [
    "url = gen_search_url('shop','몰스킨',1,5)\n",
    "json_result = get_result_onpage(url)\n",
    "pd_result = get_field(json_result)"
   ]
  },
  {
   "cell_type": "code",
   "execution_count": 47,
   "id": "fe005aff",
   "metadata": {},
   "outputs": [
    {
     "data": {
      "text/html": [
       "<div>\n",
       "<style scoped>\n",
       "    .dataframe tbody tr th:only-of-type {\n",
       "        vertical-align: middle;\n",
       "    }\n",
       "\n",
       "    .dataframe tbody tr th {\n",
       "        vertical-align: top;\n",
       "    }\n",
       "\n",
       "    .dataframe thead th {\n",
       "        text-align: right;\n",
       "    }\n",
       "</style>\n",
       "<table border=\"1\" class=\"dataframe\">\n",
       "  <thead>\n",
       "    <tr style=\"text-align: right;\">\n",
       "      <th></th>\n",
       "      <th>title</th>\n",
       "      <th>lprice</th>\n",
       "      <th>link</th>\n",
       "      <th>mall</th>\n",
       "    </tr>\n",
       "  </thead>\n",
       "  <tbody>\n",
       "    <tr>\n",
       "      <th>0</th>\n",
       "      <td>몰스킨 2023 다이어리 위클리 소프트커버</td>\n",
       "      <td>18900</td>\n",
       "      <td>https://search.shopping.naver.com/gate.nhn?id=...</td>\n",
       "      <td>베스트펜</td>\n",
       "    </tr>\n",
       "    <tr>\n",
       "      <th>1</th>\n",
       "      <td>몰스킨 노트 가죽 하드커버 감성 고급 업무용 이쁜 심플</td>\n",
       "      <td>24000</td>\n",
       "      <td>https://search.shopping.naver.com/gate.nhn?id=...</td>\n",
       "      <td>베스트펜</td>\n",
       "    </tr>\n",
       "    <tr>\n",
       "      <th>2</th>\n",
       "      <td>몰스킨 2023 데일리 12개월 다이어리 L</td>\n",
       "      <td>38030</td>\n",
       "      <td>https://search.shopping.naver.com/gate.nhn?id=...</td>\n",
       "      <td>네이버</td>\n",
       "    </tr>\n",
       "    <tr>\n",
       "      <th>3</th>\n",
       "      <td>[몰스킨] 2023년 클래식 다이어리(12개월) (데일리, 위클리, 먼슬리)</td>\n",
       "      <td>21600</td>\n",
       "      <td>https://search.shopping.naver.com/gate.nhn?id=...</td>\n",
       "      <td>몰스킨공식온라인스토어</td>\n",
       "    </tr>\n",
       "    <tr>\n",
       "      <th>4</th>\n",
       "      <td>빈폴 BEANPOLE MEN 몰스킨 프렌치 워크 재킷 W BC2911C19P 2022F</td>\n",
       "      <td>203890</td>\n",
       "      <td>https://search.shopping.naver.com/gate.nhn?id=...</td>\n",
       "      <td>네이버</td>\n",
       "    </tr>\n",
       "  </tbody>\n",
       "</table>\n",
       "</div>"
      ],
      "text/plain": [
       "                                              title  ...         mall\n",
       "0                           몰스킨 2023 다이어리 위클리 소프트커버  ...         베스트펜\n",
       "1                    몰스킨 노트 가죽 하드커버 감성 고급 업무용 이쁜 심플  ...         베스트펜\n",
       "2                          몰스킨 2023 데일리 12개월 다이어리 L  ...          네이버\n",
       "3        [몰스킨] 2023년 클래식 다이어리(12개월) (데일리, 위클리, 먼슬리)  ...  몰스킨공식온라인스토어\n",
       "4  빈폴 BEANPOLE MEN 몰스킨 프렌치 워크 재킷 W BC2911C19P 2022F  ...          네이버\n",
       "\n",
       "[5 rows x 4 columns]"
      ]
     },
     "execution_count": 47,
     "metadata": {},
     "output_type": "execute_result"
    }
   ],
   "source": [
    "pd_result"
   ]
  },
  {
   "cell_type": "markdown",
   "id": "784fb90c",
   "metadata": {},
   "source": [
    "## (5) actMain()"
   ]
  },
  {
   "cell_type": "code",
   "execution_count": 48,
   "id": "bee93bbc",
   "metadata": {},
   "outputs": [
    {
     "name": "stdout",
     "output_type": "stream",
     "text": [
      "1\n",
      "101\n",
      "201\n",
      "301\n",
      "401\n",
      "501\n",
      "601\n",
      "701\n",
      "801\n",
      "901\n"
     ]
    }
   ],
   "source": [
    "for n in range(1, 1000, 100):\n",
    "    print(n)"
   ]
  },
  {
   "cell_type": "code",
   "execution_count": 50,
   "id": "fc90d5d3",
   "metadata": {},
   "outputs": [
    {
     "name": "stdout",
     "output_type": "stream",
     "text": [
      "[2023-02-06 10:25:04.235627] Url Request Success\n",
      "[2023-02-06 10:25:04.569264] Url Request Success\n",
      "[2023-02-06 10:25:04.901367] Url Request Success\n",
      "[2023-02-06 10:25:05.293763] Url Request Success\n",
      "[2023-02-06 10:25:05.636378] Url Request Success\n",
      "[2023-02-06 10:25:05.974958] Url Request Success\n",
      "[2023-02-06 10:25:06.314355] Url Request Success\n",
      "[2023-02-06 10:25:06.645425] Url Request Success\n",
      "[2023-02-06 10:25:06.976396] Url Request Success\n",
      "[2023-02-06 10:25:07.348842] Url Request Success\n"
     ]
    }
   ],
   "source": [
    "result_mol = [] \n",
    "\n",
    "for n in range(1, 1000, 100):\n",
    "    url = gen_search_url(\"shop\", \"몰스킨\", n, 100)\n",
    "    json_result = get_result_onpage(url)\n",
    "    pd_result = get_field(json_result)\n",
    "    \n",
    "    result_mol.append(pd_result)\n",
    "    \n",
    "result_mol = pd.concat(result_mol)"
   ]
  },
  {
   "cell_type": "code",
   "execution_count": 51,
   "id": "df26119d",
   "metadata": {},
   "outputs": [
    {
     "name": "stdout",
     "output_type": "stream",
     "text": [
      "<class 'pandas.core.frame.DataFrame'>\n",
      "Int64Index: 1000 entries, 0 to 99\n",
      "Data columns (total 4 columns):\n",
      " #   Column  Non-Null Count  Dtype \n",
      "---  ------  --------------  ----- \n",
      " 0   title   1000 non-null   object\n",
      " 1   lprice  1000 non-null   object\n",
      " 2   link    1000 non-null   object\n",
      " 3   mall    1000 non-null   object\n",
      "dtypes: object(4)\n",
      "memory usage: 39.1+ KB\n"
     ]
    }
   ],
   "source": [
    "result_mol.info()"
   ]
  },
  {
   "cell_type": "code",
   "execution_count": 55,
   "id": "4ce719fd",
   "metadata": {},
   "outputs": [],
   "source": [
    "result_mol.reset_index(drop=True, inplace=True)"
   ]
  },
  {
   "cell_type": "code",
   "execution_count": 56,
   "id": "6b362d69",
   "metadata": {},
   "outputs": [
    {
     "name": "stdout",
     "output_type": "stream",
     "text": [
      "<class 'pandas.core.frame.DataFrame'>\n",
      "RangeIndex: 1000 entries, 0 to 999\n",
      "Data columns (total 4 columns):\n",
      " #   Column  Non-Null Count  Dtype \n",
      "---  ------  --------------  ----- \n",
      " 0   title   1000 non-null   object\n",
      " 1   lprice  1000 non-null   object\n",
      " 2   link    1000 non-null   object\n",
      " 3   mall    1000 non-null   object\n",
      "dtypes: object(4)\n",
      "memory usage: 31.4+ KB\n"
     ]
    }
   ],
   "source": [
    "result_mol.info()"
   ]
  },
  {
   "cell_type": "code",
   "execution_count": 57,
   "id": "0002763a",
   "metadata": {},
   "outputs": [
    {
     "data": {
      "text/html": [
       "<div>\n",
       "<style scoped>\n",
       "    .dataframe tbody tr th:only-of-type {\n",
       "        vertical-align: middle;\n",
       "    }\n",
       "\n",
       "    .dataframe tbody tr th {\n",
       "        vertical-align: top;\n",
       "    }\n",
       "\n",
       "    .dataframe thead th {\n",
       "        text-align: right;\n",
       "    }\n",
       "</style>\n",
       "<table border=\"1\" class=\"dataframe\">\n",
       "  <thead>\n",
       "    <tr style=\"text-align: right;\">\n",
       "      <th></th>\n",
       "      <th>title</th>\n",
       "      <th>lprice</th>\n",
       "      <th>link</th>\n",
       "      <th>mall</th>\n",
       "    </tr>\n",
       "  </thead>\n",
       "  <tbody>\n",
       "    <tr>\n",
       "      <th>0</th>\n",
       "      <td>몰스킨 2023 다이어리 위클리 소프트커버</td>\n",
       "      <td>18900</td>\n",
       "      <td>https://search.shopping.naver.com/gate.nhn?id=...</td>\n",
       "      <td>베스트펜</td>\n",
       "    </tr>\n",
       "    <tr>\n",
       "      <th>1</th>\n",
       "      <td>몰스킨 노트 가죽 하드커버 감성 고급 업무용 이쁜 심플</td>\n",
       "      <td>24000</td>\n",
       "      <td>https://search.shopping.naver.com/gate.nhn?id=...</td>\n",
       "      <td>베스트펜</td>\n",
       "    </tr>\n",
       "    <tr>\n",
       "      <th>2</th>\n",
       "      <td>몰스킨 2023 데일리 12개월 다이어리 L</td>\n",
       "      <td>38030</td>\n",
       "      <td>https://search.shopping.naver.com/gate.nhn?id=...</td>\n",
       "      <td>네이버</td>\n",
       "    </tr>\n",
       "    <tr>\n",
       "      <th>3</th>\n",
       "      <td>[몰스킨] 2023년 클래식 다이어리(12개월) (데일리, 위클리, 먼슬리)</td>\n",
       "      <td>21600</td>\n",
       "      <td>https://search.shopping.naver.com/gate.nhn?id=...</td>\n",
       "      <td>몰스킨공식온라인스토어</td>\n",
       "    </tr>\n",
       "    <tr>\n",
       "      <th>4</th>\n",
       "      <td>빈폴 BEANPOLE MEN 몰스킨 프렌치 워크 재킷 W BC2911C19P 2022F</td>\n",
       "      <td>203890</td>\n",
       "      <td>https://search.shopping.naver.com/gate.nhn?id=...</td>\n",
       "      <td>네이버</td>\n",
       "    </tr>\n",
       "  </tbody>\n",
       "</table>\n",
       "</div>"
      ],
      "text/plain": [
       "                                              title  ...         mall\n",
       "0                           몰스킨 2023 다이어리 위클리 소프트커버  ...         베스트펜\n",
       "1                    몰스킨 노트 가죽 하드커버 감성 고급 업무용 이쁜 심플  ...         베스트펜\n",
       "2                          몰스킨 2023 데일리 12개월 다이어리 L  ...          네이버\n",
       "3        [몰스킨] 2023년 클래식 다이어리(12개월) (데일리, 위클리, 먼슬리)  ...  몰스킨공식온라인스토어\n",
       "4  빈폴 BEANPOLE MEN 몰스킨 프렌치 워크 재킷 W BC2911C19P 2022F  ...          네이버\n",
       "\n",
       "[5 rows x 4 columns]"
      ]
     },
     "execution_count": 57,
     "metadata": {},
     "output_type": "execute_result"
    }
   ],
   "source": [
    "result_mol.head()"
   ]
  },
  {
   "cell_type": "code",
   "execution_count": 58,
   "id": "de0ab4d9",
   "metadata": {},
   "outputs": [
    {
     "data": {
      "text/html": [
       "<div>\n",
       "<style scoped>\n",
       "    .dataframe tbody tr th:only-of-type {\n",
       "        vertical-align: middle;\n",
       "    }\n",
       "\n",
       "    .dataframe tbody tr th {\n",
       "        vertical-align: top;\n",
       "    }\n",
       "\n",
       "    .dataframe thead th {\n",
       "        text-align: right;\n",
       "    }\n",
       "</style>\n",
       "<table border=\"1\" class=\"dataframe\">\n",
       "  <thead>\n",
       "    <tr style=\"text-align: right;\">\n",
       "      <th></th>\n",
       "      <th>title</th>\n",
       "      <th>lprice</th>\n",
       "      <th>link</th>\n",
       "      <th>mall</th>\n",
       "    </tr>\n",
       "  </thead>\n",
       "  <tbody>\n",
       "    <tr>\n",
       "      <th>995</th>\n",
       "      <td>인디안 몰스킨 워싱 솔리드 점퍼 부천점 MIWCLYF8111BC</td>\n",
       "      <td>186596</td>\n",
       "      <td>https://search.shopping.naver.com/gate.nhn?id=...</td>\n",
       "      <td>네이버</td>\n",
       "    </tr>\n",
       "    <tr>\n",
       "      <th>996</th>\n",
       "      <td>2023 스타벅스 다이어리 프리퀀시 레드 플래너</td>\n",
       "      <td>32900</td>\n",
       "      <td>https://search.shopping.naver.com/gate.nhn?id=...</td>\n",
       "      <td>한정판매니아</td>\n",
       "    </tr>\n",
       "    <tr>\n",
       "      <th>997</th>\n",
       "      <td>톰포드 S05 몰스킨 퍼 블루종 자켓 TFO321 BA093 TMG673935 16...</td>\n",
       "      <td>2384140</td>\n",
       "      <td>https://search.shopping.naver.com/gate.nhn?id=...</td>\n",
       "      <td>네이버</td>\n",
       "    </tr>\n",
       "    <tr>\n",
       "      <th>998</th>\n",
       "      <td>트루젠 몰스킨 방풍원단 스트레치 고급 겨울 반기모 골덴 바지 코듀로이 팬츠</td>\n",
       "      <td>93430</td>\n",
       "      <td>https://search.shopping.naver.com/gate.nhn?id=...</td>\n",
       "      <td>네이버</td>\n",
       "    </tr>\n",
       "    <tr>\n",
       "      <th>999</th>\n",
       "      <td>트루젠 남성 겉기모 벨벳 몰스킨 골덴 바지 코듀로이 슬랙스 팬츠 310PT22CW0...</td>\n",
       "      <td>107400</td>\n",
       "      <td>https://search.shopping.naver.com/gate.nhn?id=...</td>\n",
       "      <td>네이버</td>\n",
       "    </tr>\n",
       "  </tbody>\n",
       "</table>\n",
       "</div>"
      ],
      "text/plain": [
       "                                                 title  ...    mall\n",
       "995                인디안 몰스킨 워싱 솔리드 점퍼 부천점 MIWCLYF8111BC  ...     네이버\n",
       "996                         2023 스타벅스 다이어리 프리퀀시 레드 플래너  ...  한정판매니아\n",
       "997  톰포드 S05 몰스킨 퍼 블루종 자켓 TFO321 BA093 TMG673935 16...  ...     네이버\n",
       "998          트루젠 몰스킨 방풍원단 스트레치 고급 겨울 반기모 골덴 바지 코듀로이 팬츠  ...     네이버\n",
       "999  트루젠 남성 겉기모 벨벳 몰스킨 골덴 바지 코듀로이 슬랙스 팬츠 310PT22CW0...  ...     네이버\n",
       "\n",
       "[5 rows x 4 columns]"
      ]
     },
     "execution_count": 58,
     "metadata": {},
     "output_type": "execute_result"
    }
   ],
   "source": [
    "result_mol.tail()"
   ]
  },
  {
   "cell_type": "code",
   "execution_count": 59,
   "id": "919ba3c3",
   "metadata": {
    "scrolled": true
   },
   "outputs": [
    {
     "data": {
      "text/plain": [
       "array([['몰스킨 2023 다이어리 위클리 소프트커버', '18900',\n",
       "        'https://search.shopping.naver.com/gate.nhn?id=84662525433',\n",
       "        '베스트펜'],\n",
       "       ['몰스킨 노트 가죽 하드커버 감성 고급 업무용 이쁜 심플', '24000',\n",
       "        'https://search.shopping.naver.com/gate.nhn?id=82526953942',\n",
       "        '베스트펜'],\n",
       "       ['몰스킨 2023 데일리 12개월 다이어리 L', '38030',\n",
       "        'https://search.shopping.naver.com/gate.nhn?id=34543729266',\n",
       "        '네이버'],\n",
       "       ...,\n",
       "       ['톰포드 S05 몰스킨 퍼 블루종 자켓 TFO321 BA093 TMG673935 1675056799',\n",
       "        '2384140',\n",
       "        'https://search.shopping.naver.com/gate.nhn?id=37548837494',\n",
       "        '네이버'],\n",
       "       ['트루젠 몰스킨 방풍원단 스트레치 고급 겨울 반기모 골덴 바지 코듀로이 팬츠', '93430',\n",
       "        'https://search.shopping.naver.com/gate.nhn?id=36517462160',\n",
       "        '네이버'],\n",
       "       ['트루젠 남성 겉기모 벨벳 몰스킨 골덴 바지 코듀로이 슬랙스 팬츠 310PT22CW0 150', '107400',\n",
       "        'https://search.shopping.naver.com/gate.nhn?id=37158560044',\n",
       "        '네이버']], dtype=object)"
      ]
     },
     "execution_count": 59,
     "metadata": {},
     "output_type": "execute_result"
    }
   ],
   "source": [
    "result_mol.values"
   ]
  },
  {
   "cell_type": "code",
   "execution_count": 63,
   "id": "b69afa9b",
   "metadata": {},
   "outputs": [
    {
     "name": "stdout",
     "output_type": "stream",
     "text": [
      "<class 'pandas.core.frame.DataFrame'>\n",
      "RangeIndex: 1000 entries, 0 to 999\n",
      "Data columns (total 4 columns):\n",
      " #   Column  Non-Null Count  Dtype  \n",
      "---  ------  --------------  -----  \n",
      " 0   title   1000 non-null   object \n",
      " 1   lprice  1000 non-null   float64\n",
      " 2   link    1000 non-null   object \n",
      " 3   mall    1000 non-null   object \n",
      "dtypes: float64(1), object(3)\n",
      "memory usage: 31.4+ KB\n"
     ]
    }
   ],
   "source": [
    "result_mol['lprice'] = result_mol['lprice'].astype('float')\n",
    "result_mol.info()"
   ]
  },
  {
   "cell_type": "markdown",
   "id": "e262d884",
   "metadata": {},
   "source": [
    "## (5) to_excel()"
   ]
  },
  {
   "cell_type": "markdown",
   "id": "7a7b7e34",
   "metadata": {},
   "source": [
    "# !pip install xlsxwriter"
   ]
  },
  {
   "cell_type": "code",
   "execution_count": 64,
   "id": "5d27239c",
   "metadata": {},
   "outputs": [
    {
     "name": "stdout",
     "output_type": "stream",
     "text": [
      "Collecting xlsxwriter\n",
      "  Downloading XlsxWriter-3.0.8-py3-none-any.whl (152 kB)\n",
      "     -------------------------------------- 152.8/152.8 kB 3.0 MB/s eta 0:00:00\n",
      "Installing collected packages: xlsxwriter\n",
      "Successfully installed xlsxwriter-3.0.8\n"
     ]
    }
   ],
   "source": [
    "!pip install xlsxwriter"
   ]
  },
  {
   "cell_type": "code",
   "execution_count": 66,
   "id": "703431db",
   "metadata": {},
   "outputs": [
    {
     "name": "stderr",
     "output_type": "stream",
     "text": [
      "C:\\Users\\sejong\\AppData\\Local\\Temp\\ipykernel_14204\\1963247151.py:14: FutureWarning: save is not part of the public API, usage can give unexpected results and will be removed in a future version\n",
      "  writer.save()\n"
     ]
    }
   ],
   "source": [
    "writer = pd.ExcelWriter(\"../data/06_molskin_diary_in_naver_shop.xlsx\", engine=\"xlsxwriter\")\n",
    "result_mol.to_excel(writer, sheet_name=\"Sheet1\")\n",
    "\n",
    "workbook = writer.book \n",
    "worksheet = writer.sheets[\"Sheet1\"]\n",
    "worksheet.set_column(\"A:A\", 4)\n",
    "worksheet.set_column(\"B:B\", 60)\n",
    "worksheet.set_column(\"C:C\", 10)\n",
    "worksheet.set_column(\"D:D\", 10)\n",
    "worksheet.set_column(\"E:E\", 50)\n",
    "worksheet.set_column(\"F:F\", 10)\n",
    "\n",
    "worksheet.conditional_format(\"C2:C1001\", {\"type\": \"3_color_scale\"})\n",
    "writer.save()"
   ]
  },
  {
   "cell_type": "markdown",
   "id": "c2b64cf5",
   "metadata": {},
   "source": [
    "## (6) 시각화"
   ]
  },
  {
   "cell_type": "code",
   "execution_count": 70,
   "id": "f127f7a8",
   "metadata": {},
   "outputs": [],
   "source": [
    "import matplotlib.pyplot as plt\n",
    "import seaborn as sns\n",
    "from matplotlib import rc\n",
    "# import matplotlib as mpl\n",
    "\n",
    "plt.rcParams['axes.unicode_minus'] = False # 마이너스 부호 때문에 한글이 깨질 수 있어 주는 설정\n",
    "rc('font', family='Malgun Gothic')\n",
    "%matplotlib inline"
   ]
  },
  {
   "cell_type": "code",
   "execution_count": 83,
   "id": "1342c94e",
   "metadata": {},
   "outputs": [
    {
     "data": {
      "image/png": "[encoded data removed]",
      "text/plain": [
       "<Figure size 1500x600 with 1 Axes>"
      ]
     },
     "metadata": {},
     "output_type": "display_data"
    }
   ],
   "source": [
    "plt.figure(figsize=(15,6))\n",
    "sns.countplot(\n",
    "    x= result_mol['mall'],\n",
    "    data=result_mol,\n",
    "    palette='RdYlGn',\n",
    "    order=result_mol['mall'].value_counts().index\n",
    ")\n",
    "plt.xticks(rotation=90)\n",
    "plt.grid(True)\n",
    "plt.show()"
   ]
  },
  {
   "cell_type": "code",
   "execution_count": 73,
   "id": "7a1c1462",
   "metadata": {},
   "outputs": [
    {
     "data": {
      "text/plain": [
       "Index(['네이버', '몰스킨스토어', '몰스킨공식온라인스토어', '베스트펜', '한정판매니아', '빈폴', '펜카페', '비발디샵',\n",
       "       '작은별안녕', '안네프랑크', '더심플직구', '텐바이텐', '빈폴남성', '스프링스트릿 마켓'],\n",
       "      dtype='object')"
      ]
     },
     "execution_count": 73,
     "metadata": {},
     "output_type": "execute_result"
    }
   ],
   "source": [
    "result_mol['mall'].value_counts().index"
   ]
  },
  {
   "cell_type": "markdown",
   "id": "5ed51d12",
   "metadata": {},
   "source": [
    "- 검색량 중 제일 많은 것은 '네이버'이고 그 다음으로 위와 같은 순서로 확인된다."
   ]
  }
 ],
 "metadata": {
  "kernelspec": {
   "display_name": "Python 3 (ipykernel)",
   "language": "python",
   "name": "python3"
  },
  "language_info": {
   "codemirror_mode": {
    "name": "ipython",
    "version": 3
   },
   "file_extension": ".py",
   "mimetype": "text/x-python",
   "name": "python",
   "nbconvert_exporter": "python",
   "pygments_lexer": "ipython3",
   "version": "3.8.16"
  },
  "vscode": {
   "interpreter": {
    "hash": "23959092bf266381863377c5c7baae64a85affec6742e85994169f27e2fc94fc"
   }
  }
 },
 "nbformat": 4,
 "nbformat_minor": 5
}
